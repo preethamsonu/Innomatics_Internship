{
 "cells": [
  {
   "cell_type": "markdown",
   "metadata": {},
   "source": [
    "# Importing Necessary Libraries"
   ]
  },
  {
   "cell_type": "code",
   "execution_count": 3,
   "metadata": {},
   "outputs": [],
   "source": [
    "import numpy as np\n",
    "import pandas as pd\n",
    "import matplotlib.pyplot as plt\n",
    "import seaborn as sns"
   ]
  },
  {
   "cell_type": "markdown",
   "metadata": {},
   "source": [
    "# Reading the data file(csv)"
   ]
  },
  {
   "cell_type": "code",
   "execution_count": 4,
   "metadata": {},
   "outputs": [],
   "source": [
    "df = pd.read_csv(r\"C:\\Users\\PREETHAM\\Downloads\\Internship_data.csv\")"
   ]
  },
  {
   "cell_type": "code",
   "execution_count": 5,
   "metadata": {},
   "outputs": [
    {
     "data": {
      "text/html": [
       "<div>\n",
       "<style scoped>\n",
       "    .dataframe tbody tr th:only-of-type {\n",
       "        vertical-align: middle;\n",
       "    }\n",
       "\n",
       "    .dataframe tbody tr th {\n",
       "        vertical-align: top;\n",
       "    }\n",
       "\n",
       "    .dataframe thead th {\n",
       "        text-align: right;\n",
       "    }\n",
       "</style>\n",
       "<table border=\"1\" class=\"dataframe\">\n",
       "  <thead>\n",
       "    <tr style=\"text-align: right;\">\n",
       "      <th></th>\n",
       "      <th>x1</th>\n",
       "      <th>x2</th>\n",
       "      <th>y</th>\n",
       "    </tr>\n",
       "  </thead>\n",
       "  <tbody>\n",
       "    <tr>\n",
       "      <th>0</th>\n",
       "      <td>-119.366669</td>\n",
       "      <td>1.150000e+02</td>\n",
       "      <td>1</td>\n",
       "    </tr>\n",
       "    <tr>\n",
       "      <th>1</th>\n",
       "      <td>-101.108044</td>\n",
       "      <td>9.777716e+01</td>\n",
       "      <td>1</td>\n",
       "    </tr>\n",
       "    <tr>\n",
       "      <th>2</th>\n",
       "      <td>-130.278658</td>\n",
       "      <td>1.067677e+02</td>\n",
       "      <td>1</td>\n",
       "    </tr>\n",
       "    <tr>\n",
       "      <th>3</th>\n",
       "      <td>-114.703415</td>\n",
       "      <td>1.011955e+02</td>\n",
       "      <td>1</td>\n",
       "    </tr>\n",
       "    <tr>\n",
       "      <th>4</th>\n",
       "      <td>-119.366669</td>\n",
       "      <td>1.150000e+02</td>\n",
       "      <td>1</td>\n",
       "    </tr>\n",
       "    <tr>\n",
       "      <th>...</th>\n",
       "      <td>...</td>\n",
       "      <td>...</td>\n",
       "      <td>...</td>\n",
       "    </tr>\n",
       "    <tr>\n",
       "      <th>2222</th>\n",
       "      <td>98.714112</td>\n",
       "      <td>8.964312e+01</td>\n",
       "      <td>0</td>\n",
       "    </tr>\n",
       "    <tr>\n",
       "      <th>2223</th>\n",
       "      <td>96.633331</td>\n",
       "      <td>9.100000e+01</td>\n",
       "      <td>0</td>\n",
       "    </tr>\n",
       "    <tr>\n",
       "      <th>2224</th>\n",
       "      <td>85.673940</td>\n",
       "      <td>1.038393e+02</td>\n",
       "      <td>0</td>\n",
       "    </tr>\n",
       "    <tr>\n",
       "      <th>2225</th>\n",
       "      <td>78.958862</td>\n",
       "      <td>7.860537e+01</td>\n",
       "      <td>0</td>\n",
       "    </tr>\n",
       "    <tr>\n",
       "      <th>2226</th>\n",
       "      <td>109.624009</td>\n",
       "      <td>1.000000e+08</td>\n",
       "      <td>0</td>\n",
       "    </tr>\n",
       "  </tbody>\n",
       "</table>\n",
       "<p>2227 rows × 3 columns</p>\n",
       "</div>"
      ],
      "text/plain": [
       "              x1            x2  y\n",
       "0    -119.366669  1.150000e+02  1\n",
       "1    -101.108044  9.777716e+01  1\n",
       "2    -130.278658  1.067677e+02  1\n",
       "3    -114.703415  1.011955e+02  1\n",
       "4    -119.366669  1.150000e+02  1\n",
       "...          ...           ... ..\n",
       "2222   98.714112  8.964312e+01  0\n",
       "2223   96.633331  9.100000e+01  0\n",
       "2224   85.673940  1.038393e+02  0\n",
       "2225   78.958862  7.860537e+01  0\n",
       "2226  109.624009  1.000000e+08  0\n",
       "\n",
       "[2227 rows x 3 columns]"
      ]
     },
     "execution_count": 5,
     "metadata": {},
     "output_type": "execute_result"
    }
   ],
   "source": [
    "df"
   ]
  },
  {
   "cell_type": "code",
   "execution_count": 6,
   "metadata": {},
   "outputs": [
    {
     "data": {
      "text/plain": [
       "(2227, 3)"
      ]
     },
     "execution_count": 6,
     "metadata": {},
     "output_type": "execute_result"
    }
   ],
   "source": [
    "df.shape"
   ]
  },
  {
   "cell_type": "code",
   "execution_count": 7,
   "metadata": {},
   "outputs": [
    {
     "name": "stdout",
     "output_type": "stream",
     "text": [
      "<class 'pandas.core.frame.DataFrame'>\n",
      "RangeIndex: 2227 entries, 0 to 2226\n",
      "Data columns (total 3 columns):\n",
      " #   Column  Non-Null Count  Dtype  \n",
      "---  ------  --------------  -----  \n",
      " 0   x1      2222 non-null   float64\n",
      " 1   x2      2224 non-null   float64\n",
      " 2   y       2227 non-null   int64  \n",
      "dtypes: float64(2), int64(1)\n",
      "memory usage: 52.3 KB\n"
     ]
    }
   ],
   "source": [
    "df.info()"
   ]
  },
  {
   "cell_type": "code",
   "execution_count": 8,
   "metadata": {},
   "outputs": [
    {
     "data": {
      "text/plain": [
       "x1    5\n",
       "x2    3\n",
       "y     0\n",
       "dtype: int64"
      ]
     },
     "execution_count": 8,
     "metadata": {},
     "output_type": "execute_result"
    }
   ],
   "source": [
    "df.isnull().sum()"
   ]
  },
  {
   "cell_type": "markdown",
   "metadata": {},
   "source": [
    "It has missing values"
   ]
  },
  {
   "cell_type": "markdown",
   "metadata": {},
   "source": [
    "# Dropping the null values"
   ]
  },
  {
   "cell_type": "code",
   "execution_count": 10,
   "metadata": {},
   "outputs": [],
   "source": [
    "df = df.dropna()"
   ]
  },
  {
   "cell_type": "code",
   "execution_count": 11,
   "metadata": {},
   "outputs": [
    {
     "data": {
      "text/plain": [
       "(2219, 3)"
      ]
     },
     "execution_count": 11,
     "metadata": {},
     "output_type": "execute_result"
    }
   ],
   "source": [
    "df.shape"
   ]
  },
  {
   "cell_type": "code",
   "execution_count": 12,
   "metadata": {},
   "outputs": [
    {
     "data": {
      "text/plain": [
       "x1    0\n",
       "x2    0\n",
       "y     0\n",
       "dtype: int64"
      ]
     },
     "execution_count": 12,
     "metadata": {},
     "output_type": "execute_result"
    }
   ],
   "source": [
    "df.isnull().sum()"
   ]
  },
  {
   "cell_type": "code",
   "execution_count": 13,
   "metadata": {},
   "outputs": [
    {
     "data": {
      "text/html": [
       "<div>\n",
       "<style scoped>\n",
       "    .dataframe tbody tr th:only-of-type {\n",
       "        vertical-align: middle;\n",
       "    }\n",
       "\n",
       "    .dataframe tbody tr th {\n",
       "        vertical-align: top;\n",
       "    }\n",
       "\n",
       "    .dataframe thead th {\n",
       "        text-align: right;\n",
       "    }\n",
       "</style>\n",
       "<table border=\"1\" class=\"dataframe\">\n",
       "  <thead>\n",
       "    <tr style=\"text-align: right;\">\n",
       "      <th></th>\n",
       "      <th>x1</th>\n",
       "      <th>x2</th>\n",
       "      <th>y</th>\n",
       "    </tr>\n",
       "  </thead>\n",
       "  <tbody>\n",
       "    <tr>\n",
       "      <th>0</th>\n",
       "      <td>-119.366669</td>\n",
       "      <td>1.150000e+02</td>\n",
       "      <td>1</td>\n",
       "    </tr>\n",
       "    <tr>\n",
       "      <th>1</th>\n",
       "      <td>-101.108044</td>\n",
       "      <td>9.777716e+01</td>\n",
       "      <td>1</td>\n",
       "    </tr>\n",
       "    <tr>\n",
       "      <th>2</th>\n",
       "      <td>-130.278658</td>\n",
       "      <td>1.067677e+02</td>\n",
       "      <td>1</td>\n",
       "    </tr>\n",
       "    <tr>\n",
       "      <th>3</th>\n",
       "      <td>-114.703415</td>\n",
       "      <td>1.011955e+02</td>\n",
       "      <td>1</td>\n",
       "    </tr>\n",
       "    <tr>\n",
       "      <th>4</th>\n",
       "      <td>-119.366669</td>\n",
       "      <td>1.150000e+02</td>\n",
       "      <td>1</td>\n",
       "    </tr>\n",
       "    <tr>\n",
       "      <th>...</th>\n",
       "      <td>...</td>\n",
       "      <td>...</td>\n",
       "      <td>...</td>\n",
       "    </tr>\n",
       "    <tr>\n",
       "      <th>2222</th>\n",
       "      <td>98.714112</td>\n",
       "      <td>8.964312e+01</td>\n",
       "      <td>0</td>\n",
       "    </tr>\n",
       "    <tr>\n",
       "      <th>2223</th>\n",
       "      <td>96.633331</td>\n",
       "      <td>9.100000e+01</td>\n",
       "      <td>0</td>\n",
       "    </tr>\n",
       "    <tr>\n",
       "      <th>2224</th>\n",
       "      <td>85.673940</td>\n",
       "      <td>1.038393e+02</td>\n",
       "      <td>0</td>\n",
       "    </tr>\n",
       "    <tr>\n",
       "      <th>2225</th>\n",
       "      <td>78.958862</td>\n",
       "      <td>7.860537e+01</td>\n",
       "      <td>0</td>\n",
       "    </tr>\n",
       "    <tr>\n",
       "      <th>2226</th>\n",
       "      <td>109.624009</td>\n",
       "      <td>1.000000e+08</td>\n",
       "      <td>0</td>\n",
       "    </tr>\n",
       "  </tbody>\n",
       "</table>\n",
       "<p>2219 rows × 3 columns</p>\n",
       "</div>"
      ],
      "text/plain": [
       "              x1            x2  y\n",
       "0    -119.366669  1.150000e+02  1\n",
       "1    -101.108044  9.777716e+01  1\n",
       "2    -130.278658  1.067677e+02  1\n",
       "3    -114.703415  1.011955e+02  1\n",
       "4    -119.366669  1.150000e+02  1\n",
       "...          ...           ... ..\n",
       "2222   98.714112  8.964312e+01  0\n",
       "2223   96.633331  9.100000e+01  0\n",
       "2224   85.673940  1.038393e+02  0\n",
       "2225   78.958862  7.860537e+01  0\n",
       "2226  109.624009  1.000000e+08  0\n",
       "\n",
       "[2219 rows x 3 columns]"
      ]
     },
     "execution_count": 13,
     "metadata": {},
     "output_type": "execute_result"
    }
   ],
   "source": [
    "df"
   ]
  },
  {
   "cell_type": "markdown",
   "metadata": {},
   "source": [
    "# Seperating the target column"
   ]
  },
  {
   "cell_type": "code",
   "execution_count": 14,
   "metadata": {},
   "outputs": [],
   "source": [
    "target = df[\"y\"]\n",
    "df = df.drop(\"y\",axis = 1)"
   ]
  },
  {
   "cell_type": "code",
   "execution_count": 18,
   "metadata": {},
   "outputs": [
    {
     "data": {
      "text/plain": [
       "0    1238\n",
       "1     981\n",
       "Name: y, dtype: int64"
      ]
     },
     "execution_count": 18,
     "metadata": {},
     "output_type": "execute_result"
    }
   ],
   "source": [
    "target.value_counts()"
   ]
  },
  {
   "cell_type": "markdown",
   "metadata": {},
   "source": [
    "# Standardizing the data"
   ]
  },
  {
   "cell_type": "code",
   "execution_count": 19,
   "metadata": {},
   "outputs": [],
   "source": [
    "from sklearn.preprocessing import StandardScaler\n",
    "\n",
    "rescale = StandardScaler()\n",
    "\n",
    "stand_train_data = rescale.fit_transform(df)"
   ]
  },
  {
   "cell_type": "code",
   "execution_count": 21,
   "metadata": {},
   "outputs": [
    {
     "data": {
      "text/plain": [
       "(2219, 2)"
      ]
     },
     "execution_count": 21,
     "metadata": {},
     "output_type": "execute_result"
    }
   ],
   "source": [
    "stand_train_data.shape"
   ]
  },
  {
   "cell_type": "code",
   "execution_count": 22,
   "metadata": {},
   "outputs": [
    {
     "data": {
      "text/plain": [
       "(2219,)"
      ]
     },
     "execution_count": 22,
     "metadata": {},
     "output_type": "execute_result"
    }
   ],
   "source": [
    "target.shape"
   ]
  },
  {
   "cell_type": "markdown",
   "metadata": {},
   "source": [
    "# Test-Train split"
   ]
  },
  {
   "cell_type": "code",
   "execution_count": 23,
   "metadata": {},
   "outputs": [],
   "source": [
    "from sklearn.model_selection import train_test_split\n",
    "X_train, X_test, y_train, y_test = train_test_split(stand_train_data, target,train_size = 0.80, random_state = 0)"
   ]
  },
  {
   "cell_type": "markdown",
   "metadata": {},
   "source": [
    "# GridSearchCV and RandomizedSearchCV"
   ]
  },
  {
   "cell_type": "code",
   "execution_count": 27,
   "metadata": {},
   "outputs": [],
   "source": [
    "from sklearn.model_selection import GridSearchCV, RandomizedSearchCV\n",
    "from sklearn.metrics import classification_report"
   ]
  },
  {
   "cell_type": "code",
   "execution_count": 31,
   "metadata": {},
   "outputs": [],
   "source": [
    "from sklearn.neighbors import KNeighborsClassifier\n",
    "from sklearn.svm import SVC\n",
    "from sklearn.linear_model import LogisticRegression\n",
    "from sklearn.tree import DecisionTreeClassifier "
   ]
  },
  {
   "cell_type": "markdown",
   "metadata": {},
   "source": [
    "# Logistic regression"
   ]
  },
  {
   "cell_type": "code",
   "execution_count": 34,
   "metadata": {},
   "outputs": [],
   "source": [
    "import warnings\n",
    "warnings.filterwarnings('ignore')"
   ]
  },
  {
   "cell_type": "code",
   "execution_count": 35,
   "metadata": {},
   "outputs": [
    {
     "name": "stdout",
     "output_type": "stream",
     "text": [
      "Best parameters set found on train set:\n",
      "{'C': 1, 'penalty': 'l2'}\n",
      "LogisticRegression(C=1)\n",
      "For accuracy\n",
      "\n",
      "0.5968468468468469\n",
      "\n",
      "Best parameters set found on train set:\n",
      "{'C': 1, 'penalty': 'l2'}\n",
      "LogisticRegression(C=1)\n",
      "For f1\n",
      "\n",
      "0.40531561461794013\n",
      "\n",
      "Best parameters set found on train set:\n",
      "{'C': 1, 'penalty': 'l2'}\n",
      "LogisticRegression(C=1)\n",
      "For roc_auc\n",
      "\n",
      "0.5847516569838802\n",
      "\n",
      "Best parameters set found on train set:\n",
      "{'C': 1, 'penalty': 'l2'}\n",
      "LogisticRegression(C=1)\n",
      "For precision\n",
      "\n",
      "0.6161616161616161\n",
      "\n",
      "Best parameters set found on train set:\n",
      "{'C': 1, 'penalty': 'l2'}\n",
      "LogisticRegression(C=1)\n",
      "For recall\n",
      "\n",
      "0.30198019801980197\n",
      "\n",
      "Wall time: 1.57 s\n"
     ]
    }
   ],
   "source": [
    "%%time\n",
    "tuned_parameters = [{'penalty':[\"l1\",\"l2\",\"elasticnet\"], 'C':[1, 10,100,1000]}]\n",
    "\n",
    "evaluation_metric = [\"accuracy\", \"f1\",\"roc_auc\",\"precision\",\"recall\"]\n",
    "for value in evaluation_metric:\n",
    "    \n",
    "\n",
    "    clf = GridSearchCV(\n",
    "        LogisticRegression(), tuned_parameters, scoring='{}'.format(value),cv = 10\n",
    "    )\n",
    "    clf.fit(X_train, y_train)\n",
    "\n",
    "    print(\"Best parameters set found on train set:\")\n",
    "    print(clf.best_params_)\n",
    "    print(clf.best_estimator_)\n",
    "    print(\"For {}\".format(value))\n",
    "    print()\n",
    "    print(clf.score(X_test, y_test))\n",
    "    print()"
   ]
  },
  {
   "cell_type": "markdown",
   "metadata": {},
   "source": [
    "# SVM"
   ]
  },
  {
   "cell_type": "code",
   "execution_count": 44,
   "metadata": {},
   "outputs": [
    {
     "name": "stdout",
     "output_type": "stream",
     "text": [
      "Best parameters set found on train set:\n",
      "{'kernel': 'linear', 'C': 1}\n",
      "SVC(C=1, kernel='linear')\n",
      "For accuracy\n",
      "\n",
      "0.545045045045045\n",
      "Best parameters set found on train set:\n",
      "{'kernel': 'linear', 'C': 1}\n",
      "SVC(C=1, kernel='linear')\n",
      "For f1\n",
      "\n",
      "0.0\n",
      "Best parameters set found on train set:\n",
      "{'kernel': 'linear', 'C': 1000}\n",
      "SVC(C=1000, kernel='linear')\n",
      "For roc_auc\n",
      "\n",
      "0.5806194255789215\n",
      "Best parameters set found on train set:\n",
      "{'kernel': 'linear', 'C': 1}\n",
      "SVC(C=1, kernel='linear')\n",
      "For precision\n",
      "\n",
      "0.0\n",
      "Best parameters set found on train set:\n",
      "{'kernel': 'linear', 'C': 1}\n",
      "SVC(C=1, kernel='linear')\n",
      "For recall\n",
      "\n",
      "0.0\n",
      "Wall time: 12min 41s\n"
     ]
    }
   ],
   "source": [
    "%%time\n",
    "tuned_parameters = [{'kernel': ['linear'], 'C': [1,10, 100, 1000]}\n",
    "                    \n",
    "                         ]\n",
    "evaluation_metric = [\"accuracy\", \"f1\",\"roc_auc\",\"precision\",\"recall\"]\n",
    "for value in evaluation_metric:\n",
    "\n",
    "\n",
    "    clf = RandomizedSearchCV(\n",
    "        SVC(), tuned_parameters, scoring='{}'.format(value),cv= 10\n",
    "    )\n",
    "    clf.fit(X_train, y_train)\n",
    "\n",
    "    print(\"Best parameters set found on train set:\")\n",
    "    print(clf.best_params_)\n",
    "    print(clf.best_estimator_)\n",
    "    print(\"For {}\".format(value))\n",
    "    print()\n",
    "\n",
    "    print(clf.score(X_test, y_test))"
   ]
  },
  {
   "cell_type": "code",
   "execution_count": 42,
   "metadata": {},
   "outputs": [
    {
     "name": "stdout",
     "output_type": "stream",
     "text": [
      "Best parameters set found on train set:\n",
      "{'kernel': 'rbf', 'gamma': 0.5408959669480411, 'C': 10}\n",
      "SVC(C=10, gamma=0.5408959669480411)\n",
      "For accuracy\n",
      "\n",
      "0.5990990990990991\n",
      "Best parameters set found on train set:\n",
      "{'kernel': 'rbf', 'gamma': 0.5408959669480411, 'C': 10}\n",
      "SVC(C=10, gamma=0.5408959669480411)\n",
      "For f1\n",
      "\n",
      "0.4573170731707317\n",
      "Best parameters set found on train set:\n",
      "{'kernel': 'rbf', 'gamma': 0.5408959669480411, 'C': 1000}\n",
      "SVC(C=1000, gamma=0.5408959669480411)\n",
      "For roc_auc\n",
      "\n",
      "0.5938343834383439\n",
      "Best parameters set found on train set:\n",
      "{'kernel': 'rbf', 'gamma': 0.0788005070597696, 'C': 100}\n",
      "SVC(C=100, gamma=0.0788005070597696)\n",
      "For precision\n",
      "\n",
      "0.6388888888888888\n",
      "Best parameters set found on train set:\n",
      "{'kernel': 'rbf', 'gamma': 0.5408959669480411, 'C': 1000}\n",
      "SVC(C=1000, gamma=0.5408959669480411)\n",
      "For recall\n",
      "\n",
      "0.38613861386138615\n",
      "Wall time: 2min 7s\n"
     ]
    }
   ],
   "source": [
    "%%time\n",
    "tuned_parameters = [{'kernel': ['rbf'], 'gamma': np.random.rand(3) , 'C': [1, 10, 100, 1000]}\n",
    "                         ]\n",
    "evaluation_metric = [\"accuracy\", \"f1\",\"roc_auc\",\"precision\",\"recall\"]\n",
    "for value in evaluation_metric:\n",
    "\n",
    "\n",
    "    clf = RandomizedSearchCV(\n",
    "        SVC(), tuned_parameters, scoring='{}'.format(value),cv= 10\n",
    "    )\n",
    "    clf.fit(X_train, y_train)\n",
    "\n",
    "    print(\"Best parameters set found on train set:\")\n",
    "    print(clf.best_params_)\n",
    "    print(clf.best_estimator_)\n",
    "    print(\"For {}\".format(value))\n",
    "    print()\n",
    "\n",
    "    print(clf.score(X_test, y_test))\n"
   ]
  },
  {
   "cell_type": "markdown",
   "metadata": {},
   "source": [
    "# Decision Tree"
   ]
  },
  {
   "cell_type": "code",
   "execution_count": 40,
   "metadata": {},
   "outputs": [
    {
     "name": "stdout",
     "output_type": "stream",
     "text": [
      "Best parameters set found on train set:\n",
      "{'criterion': 'gini', 'max_depth': 6}\n",
      "DecisionTreeClassifier(max_depth=6)\n",
      "For accuracy\n",
      "\n",
      "0.9481981981981982\n",
      "\n",
      "Best parameters set found on train set:\n",
      "{'criterion': 'gini', 'max_depth': 6}\n",
      "DecisionTreeClassifier(max_depth=6)\n",
      "For f1\n",
      "\n",
      "0.9443099273607748\n",
      "\n",
      "Best parameters set found on train set:\n",
      "{'criterion': 'gini', 'max_depth': 6}\n",
      "DecisionTreeClassifier(max_depth=6)\n",
      "For roc_auc\n",
      "\n",
      "0.9872555437361917\n",
      "\n",
      "Best parameters set found on train set:\n",
      "{'criterion': 'entropy', 'max_depth': 4}\n",
      "DecisionTreeClassifier(criterion='entropy', max_depth=4)\n",
      "For precision\n",
      "\n",
      "1.0\n",
      "\n",
      "Best parameters set found on train set:\n",
      "{'criterion': 'entropy', 'max_depth': 6}\n",
      "DecisionTreeClassifier(criterion='entropy', max_depth=6)\n",
      "For recall\n",
      "\n",
      "0.9801980198019802\n",
      "\n",
      "Wall time: 5.8 s\n"
     ]
    }
   ],
   "source": [
    "%%time\n",
    "tuned_parameters = [{'criterion':['gini','entropy'],'max_depth':[4,5,6,7,8,9,10,11,12,15,20,30,40,50,70,90,120,150]}]\n",
    "\n",
    "evaluation_metric = [\"accuracy\", \"f1\",\"roc_auc\",\"precision\",\"recall\"]\n",
    "for value in evaluation_metric:\n",
    "    \n",
    "\n",
    "    clf = GridSearchCV(\n",
    "        DecisionTreeClassifier(), tuned_parameters, scoring='{}'.format(value),cv = 10\n",
    "    )\n",
    "    clf.fit(X_train, y_train)\n",
    "\n",
    "    print(\"Best parameters set found on train set:\")\n",
    "    print(clf.best_params_)\n",
    "    print(clf.best_estimator_)\n",
    "    print(\"For {}\".format(value))\n",
    "    print()\n",
    "    print(clf.score(X_test, y_test))\n",
    "    print()"
   ]
  },
  {
   "cell_type": "markdown",
   "metadata": {},
   "source": [
    "# KNN"
   ]
  },
  {
   "cell_type": "code",
   "execution_count": 41,
   "metadata": {},
   "outputs": [
    {
     "name": "stdout",
     "output_type": "stream",
     "text": [
      "Best parameters set found on train set:\n",
      "{'n_neighbors': 2, 'p': 1}\n",
      "KNeighborsClassifier(n_neighbors=2, p=1)\n",
      "For accuracy\n",
      "\n",
      "0.5472972972972973\n",
      "\n",
      "Best parameters set found on train set:\n",
      "{'n_neighbors': 1, 'p': 1}\n",
      "KNeighborsClassifier(n_neighbors=1, p=1)\n",
      "For f1\n",
      "\n",
      "0.544987146529563\n",
      "\n",
      "Best parameters set found on train set:\n",
      "{'n_neighbors': 10, 'p': 1}\n",
      "KNeighborsClassifier(n_neighbors=10, p=1)\n",
      "For roc_auc\n",
      "\n",
      "0.5558669503313968\n",
      "\n",
      "Best parameters set found on train set:\n",
      "{'n_neighbors': 2, 'p': 1}\n",
      "KNeighborsClassifier(n_neighbors=2, p=1)\n",
      "For precision\n",
      "\n",
      "0.5060240963855421\n",
      "\n",
      "Best parameters set found on train set:\n",
      "{'n_neighbors': 1, 'p': 1}\n",
      "KNeighborsClassifier(n_neighbors=1, p=1)\n",
      "For recall\n",
      "\n",
      "0.5247524752475248\n",
      "\n",
      "Wall time: 10.9 s\n"
     ]
    }
   ],
   "source": [
    "%%time\n",
    "tuned_parameters = [{'n_neighbors':[1, 2, 3, 4, 5, 6, 7, 8, 9, 10], 'p':[1, 2, 3]}]\n",
    "evaluation_metric = [\"accuracy\", \"f1\",\"roc_auc\",\"precision\",\"recall\"]\n",
    "for value in evaluation_metric:\n",
    "    \n",
    "\n",
    "    clf = GridSearchCV(\n",
    "        KNeighborsClassifier(), tuned_parameters, scoring='{}'.format(value), cv = 10\n",
    "    )\n",
    "    clf.fit(X_train, y_train)\n",
    "\n",
    "    print(\"Best parameters set found on train set:\")\n",
    "    print(clf.best_params_)\n",
    "    print(clf.best_estimator_)\n",
    "    print(\"For {}\".format(value))\n",
    "    print()\n",
    "    print(clf.score(X_test, y_test))\n",
    "    print()"
   ]
  },
  {
   "cell_type": "markdown",
   "metadata": {},
   "source": [
    "### After Hyperparameter tuning we observe that the Decision Tree Algorithm is best\n",
    "### Decision Tree gives best precision and f1 score and it is very fast to compute"
   ]
  },
  {
   "cell_type": "code",
   "execution_count": null,
   "metadata": {},
   "outputs": [],
   "source": []
  }
 ],
 "metadata": {
  "kernelspec": {
   "display_name": "Python 3",
   "language": "python",
   "name": "python3"
  },
  "language_info": {
   "codemirror_mode": {
    "name": "ipython",
    "version": 3
   },
   "file_extension": ".py",
   "mimetype": "text/x-python",
   "name": "python",
   "nbconvert_exporter": "python",
   "pygments_lexer": "ipython3",
   "version": "3.8.5"
  }
 },
 "nbformat": 4,
 "nbformat_minor": 4
}
